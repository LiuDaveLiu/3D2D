{
 "cells": [
  {
   "cell_type": "code",
   "execution_count": 1,
   "id": "21e1e058",
   "metadata": {},
   "outputs": [],
   "source": [
    "import numpy as np"
   ]
  },
  {
   "cell_type": "code",
   "execution_count": 2,
   "id": "4470bb08",
   "metadata": {},
   "outputs": [],
   "source": [
    "data=np.load('SiemensCiosSpin_Siemens.npz')"
   ]
  },
  {
   "cell_type": "code",
   "execution_count": 3,
   "id": "3cea908f",
   "metadata": {},
   "outputs": [
    {
     "data": {
      "text/plain": [
       "<numpy.lib.npyio.NpzFile at 0x1ee8ac1fdf0>"
      ]
     },
     "execution_count": 3,
     "metadata": {},
     "output_type": "execute_result"
    }
   ],
   "source": [
    "data"
   ]
  },
  {
   "cell_type": "code",
   "execution_count": 4,
   "id": "e168d4cf",
   "metadata": {},
   "outputs": [
    {
     "data": {
      "text/plain": [
       "['ProjectionMatrices', 'RotorAngles']"
      ]
     },
     "execution_count": 4,
     "metadata": {},
     "output_type": "execute_result"
    }
   ],
   "source": [
    "data.files"
   ]
  },
  {
   "cell_type": "code",
   "execution_count": 14,
   "id": "dc0b11bd",
   "metadata": {},
   "outputs": [
    {
     "data": {
      "text/plain": [
       "(400, 3, 4)"
      ]
     },
     "execution_count": 14,
     "metadata": {},
     "output_type": "execute_result"
    }
   ],
   "source": [
    "np.shape(data['ProjectionMatrices'])\n"
   ]
  },
  {
   "cell_type": "code",
   "execution_count": 12,
   "id": "17f6ea53",
   "metadata": {},
   "outputs": [
    {
     "data": {
      "text/plain": [
       "0.20989953053584978"
      ]
     },
     "execution_count": 12,
     "metadata": {},
     "output_type": "execute_result"
    }
   ],
   "source": [
    "data['ProjectionMatrices'][0][0][0]"
   ]
  },
  {
   "cell_type": "code",
   "execution_count": 13,
   "id": "ee0f5f09",
   "metadata": {},
   "outputs": [
    {
     "data": {
      "text/plain": [
       "4800"
      ]
     },
     "execution_count": 13,
     "metadata": {},
     "output_type": "execute_result"
    }
   ],
   "source": [
    "400*3*4"
   ]
  },
  {
   "cell_type": "code",
   "execution_count": null,
   "id": "5e597b9f",
   "metadata": {},
   "outputs": [],
   "source": []
  }
 ],
 "metadata": {
  "kernelspec": {
   "display_name": "Python 3 (ipykernel)",
   "language": "python",
   "name": "python3"
  },
  "language_info": {
   "codemirror_mode": {
    "name": "ipython",
    "version": 3
   },
   "file_extension": ".py",
   "mimetype": "text/x-python",
   "name": "python",
   "nbconvert_exporter": "python",
   "pygments_lexer": "ipython3",
   "version": "3.9.13"
  }
 },
 "nbformat": 4,
 "nbformat_minor": 5
}
